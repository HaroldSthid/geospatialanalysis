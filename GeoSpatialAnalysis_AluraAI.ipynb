{
  "nbformat": 4,
  "nbformat_minor": 0,
  "metadata": {
    "colab": {
      "provenance": [],
      "toc_visible": true,
      "authorship_tag": "ABX9TyOG3LXYB0RuB5QMgrxQ3XB1",
      "include_colab_link": true
    },
    "kernelspec": {
      "name": "python3",
      "display_name": "Python 3"
    },
    "language_info": {
      "name": "python"
    }
  },
  "cells": [
    {
      "cell_type": "markdown",
      "metadata": {
        "id": "view-in-github",
        "colab_type": "text"
      },
      "source": [
        "<a href=\"https://colab.research.google.com/github/HaroldSthid/geospatialanalysis/blob/main/GeoSpatialAnalysis_AluraAI.ipynb\" target=\"_parent\"><img src=\"https://colab.research.google.com/assets/colab-badge.svg\" alt=\"Open In Colab\"/></a>"
      ]
    },
    {
      "cell_type": "markdown",
      "source": [
        "#Proceso de Geocodificacion\n",
        "\n",
        "Release v1.38.1. (Installation) Simple and consistent geocoding library written in Python."
      ],
      "metadata": {
        "id": "9aep_KqmC-vh"
      }
    },
    {
      "cell_type": "code",
      "execution_count": null,
      "metadata": {
        "id": "MGEF6Fxw8Chd"
      },
      "outputs": [],
      "source": [
        "!pip install geocoder tqdm"
      ]
    },
    {
      "cell_type": "markdown",
      "source": [
        "#Probando otras liberias de Geocodificacion\n",
        "\n",
        "##Geopy\n",
        "Geopy es una biblioteca de Python que facilita la localización de las coordenadas de direcciones, ciudades y países a través de geocodificadores y otros servicios de datos geoespaciales. Permite a los usuarios obtener la ubicación geográfica de una dirección mediante la geocodificación y también ofrece la funcionalidad de geocodificación inversa."
      ],
      "metadata": {
        "id": "qJKTlwlFHmX6"
      }
    },
    {
      "cell_type": "code",
      "source": [
        "!pip install geopy"
      ],
      "metadata": {
        "id": "0qpath8lDfLI"
      },
      "execution_count": null,
      "outputs": []
    },
    {
      "cell_type": "code",
      "source": [
        "from geopy.geocoders import Nominatim"
      ],
      "metadata": {
        "id": "y0oq3eYtIM1T"
      },
      "execution_count": null,
      "outputs": []
    },
    {
      "cell_type": "code",
      "source": [
        "geolocator = Nominatim(user_agent=\"geoapiExercises\")\n",
        "location = geolocator.geocode(\"175 5th Avenue NYC\")\n",
        "print(location.latitude, location.longitude)"
      ],
      "metadata": {
        "id": "MUlhFENKITfT"
      },
      "execution_count": null,
      "outputs": []
    },
    {
      "cell_type": "markdown",
      "source": [
        "##ArcGIS\n",
        "ArcGIS ofrece una API de geocodificación que se puede utilizar a través de la biblioteca de Python."
      ],
      "metadata": {
        "id": "jus0ohZAIZ4n"
      }
    },
    {
      "cell_type": "code",
      "source": [
        "!pip install arcgis"
      ],
      "metadata": {
        "id": "X5RdlgIjIbmB"
      },
      "execution_count": null,
      "outputs": []
    },
    {
      "cell_type": "code",
      "source": [
        "from arcgis.geocoding import geocode\n",
        "from arcgis.gis import GIS"
      ],
      "metadata": {
        "id": "jJp-nfBIIkoL"
      },
      "execution_count": null,
      "outputs": []
    },
    {
      "cell_type": "markdown",
      "source": [
        "###Step 1: Instalar la biblioteca arcgis y montar Google Drive"
      ],
      "metadata": {
        "id": "J4UzMJvXIz6v"
      }
    },
    {
      "cell_type": "code",
      "source": [
        "from google.colab import drive\n",
        "drive.mount('/content/drive')"
      ],
      "metadata": {
        "id": "7TiI8VQkItoX"
      },
      "execution_count": null,
      "outputs": []
    },
    {
      "cell_type": "markdown",
      "source": [
        "###Step 2: Leer el archivo xlsx en un DataFrame de pandas"
      ],
      "metadata": {
        "id": "IzXosWf0I9jQ"
      }
    },
    {
      "cell_type": "code",
      "source": [
        "import pandas as pd\n",
        "\n",
        "# Asegúrate de tener la ruta correcta a tu archivo xlsx aquí\n",
        "file_path = '/content/drive/My Drive/Geocoding/tbl_pagespdf_unificada.xlsx'\n",
        "df = pd.read_excel(file_path, engine='openpyxl')"
      ],
      "metadata": {
        "id": "rPeDKtamJFio"
      },
      "execution_count": null,
      "outputs": []
    },
    {
      "cell_type": "markdown",
      "source": [
        "###Step 3: Geocodificar las direcciones"
      ],
      "metadata": {
        "id": "q1Q-Ic28JvJy"
      }
    },
    {
      "cell_type": "code",
      "source": [
        "from arcgis.gis import GIS\n",
        "from arcgis.geocoding import geocode\n",
        "from tqdm.auto import tqdm"
      ],
      "metadata": {
        "id": "V0wCBE4ZJo8y"
      },
      "execution_count": null,
      "outputs": []
    },
    {
      "cell_type": "code",
      "source": [
        "# Iniciar sesión en ArcGIS si es necesario\n",
        "# gis = GIS(\"https://www.arcgis.com\", \"tu_usuario\", \"tu_contraseña\")\n",
        "\n",
        "# Usaremos la API de ArcGIS sin autenticación para este ejemplo\n",
        "gis = GIS()\n",
        "\n",
        "# Función para geocodificar una dirección\n",
        "def geocodificar_direccion(direccion):\n",
        "    try:\n",
        "        return geocode(address=direccion)[0]['location']\n",
        "    except Exception as e:\n",
        "        print(f\"Error al geocodificar {direccion}: {e}\")\n",
        "        return None\n",
        "\n",
        "# Agregar columnas para las coordenadas\n",
        "df['Latitud'] = None\n",
        "df['Longitud'] = None\n",
        "\n",
        "# Geocodificar las direcciones y actualizar el DataFrame\n",
        "for index in tqdm(df.index, desc='Geocodificando'):\n",
        "    direccion = df.loc[index, 'Direccion'] + ', ' + df.loc[index, 'Ciudad'] + ', ' + df.loc[index, 'Departamento']\n",
        "    resultado_geocodificacion = geocodificar_direccion(direccion)\n",
        "    if resultado_geocodificacion:\n",
        "        df.at[index, 'Latitud'] = resultado_geocodificacion['y']\n",
        "        df.at[index, 'Longitud'] = resultado_geocodificacion['x']"
      ],
      "metadata": {
        "id": "k1e0FclaJ4UP"
      },
      "execution_count": null,
      "outputs": []
    },
    {
      "cell_type": "markdown",
      "source": [
        "###Step 4: Guardar los resultados"
      ],
      "metadata": {
        "id": "JH_WwIUFJVPe"
      }
    },
    {
      "cell_type": "code",
      "source": [
        "# Ruta para guardar el archivo actualizado en Google Drive\n",
        "output_file_path = '/content/drive/My DriveGeocoding/output_geocoding_tbl_pagespdf_unificada.xlsx'\n",
        "df.to_excel(output_file_path, index=False)\n",
        "\n",
        "# Imprimir la ruta del archivo de salida\n",
        "print(f\"Archivo actualizado guardado en: {output_file_path}\")"
      ],
      "metadata": {
        "id": "RBY1THxSKQ3b"
      },
      "execution_count": null,
      "outputs": []
    },
    {
      "cell_type": "markdown",
      "source": [
        "Visualizar coordenadas en un mapa usando Folium en Google Colab, primero debemos asegurarnos de que Folium esté instalado y luego generar el mapa con las ubicaciones basadas en las coordenadas obtenidas anteriormente. Vamos a proceder paso a paso"
      ],
      "metadata": {
        "id": "jRAsH9NpK8sc"
      }
    },
    {
      "cell_type": "markdown",
      "source": [
        "###Step 5: Instalar Folium en Colab"
      ],
      "metadata": {
        "id": "W1KytL1lLFMb"
      }
    },
    {
      "cell_type": "code",
      "source": [
        "!pip install folium"
      ],
      "metadata": {
        "id": "AZDSjHVoK-Wg"
      },
      "execution_count": null,
      "outputs": []
    },
    {
      "cell_type": "markdown",
      "source": [
        "###Step 6: Preparar los Datos Después de geocodificar\n",
        "\n",
        " las direcciones como en los pasos anteriores, asegúrate de que tu DataFrame df tiene las columnas 'Latitud' y 'Longitud' con las coordenadas correctas."
      ],
      "metadata": {
        "id": "BmrL0Lc7LbPG"
      }
    },
    {
      "cell_type": "code",
      "source": [
        "# Asegúrate de tener la ruta correcta al archivo .xlsx\n",
        "file_path = '/content/drive/My Drive/Geocoding/output_geocoding_tbl_pagespdf_unificada.xlsx'\n",
        "\n",
        "# Leer el archivo en un DataFrame de pandas\n",
        "df = pd.read_excel(file_path, engine='openpyxl')"
      ],
      "metadata": {
        "id": "UC4MdyPXLT3t"
      },
      "execution_count": null,
      "outputs": []
    },
    {
      "cell_type": "markdown",
      "source": [
        "###Step7: Crear un Mapa con Folium"
      ],
      "metadata": {
        "id": "xCTzVUhsMJbz"
      }
    },
    {
      "cell_type": "code",
      "source": [
        "# Crear un mapa base usando la media de las coordenadas\n",
        "mapa = folium.Map(location=[df['Latitud'].mean(), df['Longitud'].mean()], zoom_start=12)\n",
        "\n",
        "# Añadir marcadores para cada ubicación en el DataFrame\n",
        "for idx, row in df.iterrows():\n",
        "    # Asegúrate de que las filas tienen coordenadas válidas\n",
        "    if not pd.isnull(row['Latitud']) and not pd.isnull(row['Longitud']):\n",
        "        folium.Marker(\n",
        "            location=[row['Latitud'], row['Longitud']],\n",
        "            popup=f\"{row['Nombre Establecimiento']}\", # Asegúrate de que esta columna existe en tu DataFrame\n",
        "        ).add_to(mapa)\n",
        "\n",
        "# Mostrar el mapa en el notebook de Colab\n",
        "mapa"
      ],
      "metadata": {
        "id": "hGEbjCMmMPst"
      },
      "execution_count": null,
      "outputs": []
    },
    {
      "cell_type": "markdown",
      "source": [
        "###Step 8: Guardar el Mapa en un Archivo HTML (Opcional)\n",
        "Si deseas guardar el mapa en un archivo HTML para abrirlo con un navegador web o compartirlo con otros, puedes hacer lo siguiente:"
      ],
      "metadata": {
        "id": "GxqbqYpMM9PW"
      }
    },
    {
      "cell_type": "code",
      "source": [
        "# Guardar el mapa en un archivo HTML\n",
        "output_map_path = '/content/drive/My Drive/Geocoding/mapa_sucursal_NAC.html'\n",
        "mapa.save(output_map_path)\n",
        "\n",
        "# Imprimir la ruta del archivo del mapa\n",
        "print(f\"Mapa guardado en: {output_map_path}\")"
      ],
      "metadata": {
        "id": "fup-DStUMZPl"
      },
      "execution_count": null,
      "outputs": []
    },
    {
      "cell_type": "markdown",
      "source": [
        "#Iteracion Clusters con DBSCAN"
      ],
      "metadata": {
        "id": "W7zk0RpQNvkd"
      }
    },
    {
      "cell_type": "markdown",
      "source": [
        "###Step 9: Instalación de dependencias y montaje de Google Drive"
      ],
      "metadata": {
        "id": "BJ7XNuWFN0A4"
      }
    },
    {
      "cell_type": "code",
      "source": [
        "!pip install folium scikit-learn openpyxl"
      ],
      "metadata": {
        "id": "dMc7ACjxN7HX"
      },
      "execution_count": null,
      "outputs": []
    },
    {
      "cell_type": "code",
      "source": [
        "!pip install scikit-learn"
      ],
      "metadata": {
        "id": "ex4vRio8OQEA"
      },
      "execution_count": null,
      "outputs": []
    },
    {
      "cell_type": "code",
      "source": [
        "import pandas as pd\n",
        "from sklearn.cluster import DBSCAN\n",
        "import numpy as np\n",
        "import folium\n",
        "from folium.plugins import MarkerCluster"
      ],
      "metadata": {
        "id": "dv_ib-OnOegh"
      },
      "execution_count": null,
      "outputs": []
    },
    {
      "cell_type": "code",
      "source": [
        "from google.colab import drive\n",
        "drive.mount('/content/drive')"
      ],
      "metadata": {
        "id": "P2EH0Oy8OPQG"
      },
      "execution_count": null,
      "outputs": []
    },
    {
      "cell_type": "markdown",
      "source": [
        "###Step 10: Leer el archivo .xlsx en un DataFrame"
      ],
      "metadata": {
        "id": "AbEciQLYOTvk"
      }
    },
    {
      "cell_type": "code",
      "source": [
        "# Asegúrate de reemplazar 'path_to_your_file.xlsx' con la ruta real de tu archivo en Google Drive\n",
        "file_path = '/content/drive/My Drive/Geocoding/output_geocoding_tbl_pagespdf_unificada.xlsx'\n",
        "df = pd.read_excel(file_path, engine='openpyxl')"
      ],
      "metadata": {
        "id": "3q4AI0STOaX7"
      },
      "execution_count": null,
      "outputs": []
    },
    {
      "cell_type": "markdown",
      "source": [
        "###Step 11: Aplicar DBSCAN para clustering basado en densidad"
      ],
      "metadata": {
        "id": "wXfqzK5qOJ0k"
      }
    },
    {
      "cell_type": "code",
      "source": [
        "df.isnull().sum()"
      ],
      "metadata": {
        "id": "yxUHGQeAO6bl"
      },
      "execution_count": null,
      "outputs": []
    },
    {
      "cell_type": "code",
      "source": [
        "df = df.dropna()"
      ],
      "metadata": {
        "id": "LQBujLWPPT7j"
      },
      "execution_count": null,
      "outputs": []
    },
    {
      "cell_type": "code",
      "source": [
        "# Transformar las coordenadas a radianes para el algoritmo DBSCAN\n",
        "coords = df[['Latitud', 'Longitud']].to_numpy()\n",
        "coords_radians = np.radians(coords)\n",
        "\n",
        "# Aplicar DBSCAN - Ajusta estos parámetros según sea necesario\n",
        "db = DBSCAN(eps=0.1/6371., min_samples=5, algorithm='ball_tree', metric='haversine')\n",
        "df['Cluster'] = db.fit_predict(coords_radians)"
      ],
      "metadata": {
        "id": "yxQwbZidPVCn"
      },
      "execution_count": null,
      "outputs": []
    },
    {
      "cell_type": "markdown",
      "source": [
        "###Step 12: Crear el mapa con Folium y visualizar clusters y etiquetas"
      ],
      "metadata": {
        "id": "foIrZbwpPL1k"
      }
    },
    {
      "cell_type": "code",
      "source": [
        "# Crear un mapa base\n",
        "mapa = folium.Map(location=[df['Latitud'].mean(), df['Longitud'].mean()], zoom_start=12)\n",
        "\n",
        "# Crear un MarkerCluster para agrupar los marcadores\n",
        "marker_cluster = MarkerCluster().add_to(mapa)\n",
        "\n",
        "# Añadir marcadores con etiquetas que incluyen el nombre y la dirección\n",
        "for idx, row in df.iterrows():\n",
        "    if not pd.isnull(row['Latitud']) and not pd.isnull(row['Longitud']):\n",
        "        etiqueta = f\"{row['Nombre Establecimiento']} - {row['Direccion']}\"\n",
        "        folium.Marker(\n",
        "            location=[row['Latitud'], row['Longitud']],\n",
        "            popup=etiqueta,\n",
        "            icon=folium.Icon(color='blue' if row['Cluster'] != -1 else 'red')\n",
        "        ).add_to(marker_cluster)\n",
        "\n",
        "# Trazar polígonos alrededor de los clusters\n",
        "for cluster_number in np.unique(df['Cluster']):\n",
        "    cluster_data = df[df['Cluster'] == cluster_number]\n",
        "\n",
        "    if cluster_number != -1 and len(cluster_data) > 2:\n",
        "        locations = cluster_data[['Latitud', 'Longitud']].values.tolist()\n",
        "        folium.vector_layers.Polygon(locations=locations,\n",
        "                                     color='green',\n",
        "                                     fill=True,\n",
        "                                     fill_color='green',\n",
        "                                     fill_opacity=0.2).add_to(mapa)\n",
        "\n",
        "# Mostrar el mapa\n",
        "mapa"
      ],
      "metadata": {
        "id": "Unm0UiFzPfaR"
      },
      "execution_count": null,
      "outputs": []
    }
  ]
}