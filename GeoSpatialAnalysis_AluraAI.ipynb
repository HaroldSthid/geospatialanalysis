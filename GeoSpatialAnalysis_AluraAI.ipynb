{
  "nbformat": 4,
  "nbformat_minor": 0,
  "metadata": {
    "colab": {
      "provenance": [],
      "toc_visible": true,
      "authorship_tag": "ABX9TyMnZLJaR4LABfoupfiUTi17",
      "include_colab_link": true
    },
    "kernelspec": {
      "name": "python3",
      "display_name": "Python 3"
    },
    "language_info": {
      "name": "python"
    }
  },
  "cells": [
    {
      "cell_type": "markdown",
      "metadata": {
        "id": "view-in-github",
        "colab_type": "text"
      },
      "source": [
        "<a href=\"https://colab.research.google.com/github/HaroldSthid/geospatialanalysis/blob/main/GeoSpatialAnalysis_AluraAI.ipynb\" target=\"_parent\"><img src=\"https://colab.research.google.com/assets/colab-badge.svg\" alt=\"Open In Colab\"/></a>"
      ]
    },
    {
      "cell_type": "markdown",
      "source": [
        "Release v1.38.1. (Installation) Simple and consistent geocoding library written in Python."
      ],
      "metadata": {
        "id": "9aep_KqmC-vh"
      }
    },
    {
      "cell_type": "code",
      "execution_count": null,
      "metadata": {
        "id": "MGEF6Fxw8Chd"
      },
      "outputs": [],
      "source": [
        "!pip install geocoder tqdm"
      ]
    },
    {
      "cell_type": "code",
      "source": [],
      "metadata": {
        "id": "0qpath8lDfLI"
      },
      "execution_count": null,
      "outputs": []
    }
  ]
}