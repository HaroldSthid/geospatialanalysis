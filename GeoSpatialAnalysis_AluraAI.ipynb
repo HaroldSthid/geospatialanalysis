{
  "nbformat": 4,
  "nbformat_minor": 0,
  "metadata": {
    "colab": {
      "provenance": [],
      "toc_visible": true,
      "authorship_tag": "ABX9TyOK4VJiQG2kI9ZYHH5q8bIB",
      "include_colab_link": true
    },
    "kernelspec": {
      "name": "python3",
      "display_name": "Python 3"
    },
    "language_info": {
      "name": "python"
    }
  },
  "cells": [
    {
      "cell_type": "markdown",
      "metadata": {
        "id": "view-in-github",
        "colab_type": "text"
      },
      "source": [
        "<a href=\"https://colab.research.google.com/github/HaroldSthid/geospatialanalysis/blob/main/GeoSpatialAnalysis_AluraAI.ipynb\" target=\"_parent\"><img src=\"https://colab.research.google.com/assets/colab-badge.svg\" alt=\"Open In Colab\"/></a>"
      ]
    },
    {
      "cell_type": "markdown",
      "source": [
        "#Proceso de Geocodificacion\n",
        "\n",
        "Release v1.38.1. (Installation) Simple and consistent geocoding library written in Python."
      ],
      "metadata": {
        "id": "9aep_KqmC-vh"
      }
    },
    {
      "cell_type": "code",
      "execution_count": null,
      "metadata": {
        "id": "MGEF6Fxw8Chd"
      },
      "outputs": [],
      "source": [
        "!pip install geocoder tqdm"
      ]
    },
    {
      "cell_type": "markdown",
      "source": [
        "#Probando otras liberias de Geocodificacion\n",
        "\n",
        "##Geopy\n",
        "Geopy es una biblioteca de Python que facilita la localización de las coordenadas de direcciones, ciudades y países a través de geocodificadores y otros servicios de datos geoespaciales. Permite a los usuarios obtener la ubicación geográfica de una dirección mediante la geocodificación y también ofrece la funcionalidad de geocodificación inversa."
      ],
      "metadata": {
        "id": "qJKTlwlFHmX6"
      }
    },
    {
      "cell_type": "code",
      "source": [
        "!pip install geopy"
      ],
      "metadata": {
        "id": "0qpath8lDfLI"
      },
      "execution_count": null,
      "outputs": []
    },
    {
      "cell_type": "code",
      "source": [
        "from geopy.geocoders import Nominatim"
      ],
      "metadata": {
        "id": "y0oq3eYtIM1T"
      },
      "execution_count": null,
      "outputs": []
    },
    {
      "cell_type": "code",
      "source": [
        "geolocator = Nominatim(user_agent=\"geoapiExercises\")\n",
        "location = geolocator.geocode(\"175 5th Avenue NYC\")\n",
        "print(location.latitude, location.longitude)"
      ],
      "metadata": {
        "id": "MUlhFENKITfT"
      },
      "execution_count": null,
      "outputs": []
    },
    {
      "cell_type": "markdown",
      "source": [
        "##ArcGIS\n",
        "ArcGIS ofrece una API de geocodificación que se puede utilizar a través de la biblioteca de Python."
      ],
      "metadata": {
        "id": "jus0ohZAIZ4n"
      }
    },
    {
      "cell_type": "code",
      "source": [
        "!pip install arcgis"
      ],
      "metadata": {
        "id": "X5RdlgIjIbmB"
      },
      "execution_count": null,
      "outputs": []
    },
    {
      "cell_type": "code",
      "source": [
        "from arcgis.geocoding import geocode\n",
        "from arcgis.gis import GIS"
      ],
      "metadata": {
        "id": "jJp-nfBIIkoL"
      },
      "execution_count": null,
      "outputs": []
    },
    {
      "cell_type": "markdown",
      "source": [
        "##Step 1: Instalar la biblioteca arcgis y montar Google Drive"
      ],
      "metadata": {
        "id": "J4UzMJvXIz6v"
      }
    },
    {
      "cell_type": "code",
      "source": [
        "from google.colab import drive\n",
        "drive.mount('/content/drive')"
      ],
      "metadata": {
        "id": "7TiI8VQkItoX"
      },
      "execution_count": null,
      "outputs": []
    },
    {
      "cell_type": "markdown",
      "source": [
        "##Step 2: Leer el archivo xlsx en un DataFrame de pandas"
      ],
      "metadata": {
        "id": "IzXosWf0I9jQ"
      }
    },
    {
      "cell_type": "code",
      "source": [
        "import pandas as pd\n",
        "\n",
        "# Asegúrate de tener la ruta correcta a tu archivo xlsx aquí\n",
        "file_path = '/content/drive/My Drive/Geocoding/tbl_pagespdf_unificada.xlsx'\n",
        "df = pd.read_excel(file_path, engine='openpyxl')"
      ],
      "metadata": {
        "id": "rPeDKtamJFio"
      },
      "execution_count": null,
      "outputs": []
    },
    {
      "cell_type": "markdown",
      "source": [
        "##Step 3: Geocodificar las direcciones"
      ],
      "metadata": {
        "id": "q1Q-Ic28JvJy"
      }
    },
    {
      "cell_type": "code",
      "source": [
        "from arcgis.gis import GIS\n",
        "from arcgis.geocoding import geocode\n",
        "from tqdm.auto import tqdm"
      ],
      "metadata": {
        "id": "V0wCBE4ZJo8y"
      },
      "execution_count": null,
      "outputs": []
    },
    {
      "cell_type": "code",
      "source": [
        "# Iniciar sesión en ArcGIS si es necesario\n",
        "# gis = GIS(\"https://www.arcgis.com\", \"tu_usuario\", \"tu_contraseña\")\n",
        "\n",
        "# Usaremos la API de ArcGIS sin autenticación para este ejemplo\n",
        "gis = GIS()\n",
        "\n",
        "# Función para geocodificar una dirección\n",
        "def geocodificar_direccion(direccion):\n",
        "    try:\n",
        "        return geocode(address=direccion)[0]['location']\n",
        "    except Exception as e:\n",
        "        print(f\"Error al geocodificar {direccion}: {e}\")\n",
        "        return None\n",
        "\n",
        "# Agregar columnas para las coordenadas\n",
        "df['Latitud'] = None\n",
        "df['Longitud'] = None\n",
        "\n",
        "# Geocodificar las direcciones y actualizar el DataFrame\n",
        "for index in tqdm(df.index, desc='Geocodificando'):\n",
        "    direccion = df.loc[index, 'Direccion'] + ', ' + df.loc[index, 'Ciudad'] + ', ' + df.loc[index, 'Departamento']\n",
        "    resultado_geocodificacion = geocodificar_direccion(direccion)\n",
        "    if resultado_geocodificacion:\n",
        "        df.at[index, 'Latitud'] = resultado_geocodificacion['y']\n",
        "        df.at[index, 'Longitud'] = resultado_geocodificacion['x']"
      ],
      "metadata": {
        "id": "k1e0FclaJ4UP"
      },
      "execution_count": null,
      "outputs": []
    },
    {
      "cell_type": "markdown",
      "source": [
        "##Step 4: Guardar los resultados"
      ],
      "metadata": {
        "id": "JH_WwIUFJVPe"
      }
    },
    {
      "cell_type": "code",
      "source": [
        "# Ruta para guardar el archivo actualizado en Google Drive\n",
        "output_file_path = '/content/drive/My DriveGeocoding/output_geocoding_tbl_pagespdf_unificada.xlsx'\n",
        "df.to_excel(output_file_path, index=False)\n",
        "\n",
        "# Imprimir la ruta del archivo de salida\n",
        "print(f\"Archivo actualizado guardado en: {output_file_path}\")"
      ],
      "metadata": {
        "id": "RBY1THxSKQ3b"
      },
      "execution_count": null,
      "outputs": []
    },
    {
      "cell_type": "markdown",
      "source": [
        "Visualizar coordenadas en un mapa usando Folium en Google Colab, primero debemos asegurarnos de que Folium esté instalado y luego generar el mapa con las ubicaciones basadas en las coordenadas obtenidas anteriormente. Vamos a proceder paso a paso"
      ],
      "metadata": {
        "id": "jRAsH9NpK8sc"
      }
    },
    {
      "cell_type": "markdown",
      "source": [
        "##Step 5: Instalar Folium en Colab"
      ],
      "metadata": {
        "id": "W1KytL1lLFMb"
      }
    },
    {
      "cell_type": "code",
      "source": [
        "!pip install folium"
      ],
      "metadata": {
        "id": "AZDSjHVoK-Wg"
      },
      "execution_count": null,
      "outputs": []
    },
    {
      "cell_type": "markdown",
      "source": [
        "##Step 6: Preparar los Datos Después de geocodificar las direcciones como en los pasos anteriores, asegúrate de que tu DataFrame df tiene las columnas 'Latitud' y 'Longitud' con las coordenadas correctas."
      ],
      "metadata": {
        "id": "BmrL0Lc7LbPG"
      }
    },
    {
      "cell_type": "code",
      "source": [
        "# Asegúrate de tener la ruta correcta al archivo .xlsx\n",
        "file_path = '/content/drive/My Drive/Geocoding/output_geocoding_tbl_pagespdf_unificada.xlsx'\n",
        "\n",
        "# Leer el archivo en un DataFrame de pandas\n",
        "df = pd.read_excel(file_path, engine='openpyxl')"
      ],
      "metadata": {
        "id": "UC4MdyPXLT3t"
      },
      "execution_count": null,
      "outputs": []
    },
    {
      "cell_type": "markdown",
      "source": [
        "##Step3: Crear un Mapa con Folium"
      ],
      "metadata": {
        "id": "xCTzVUhsMJbz"
      }
    },
    {
      "cell_type": "code",
      "source": [
        "# Crear un mapa base usando la media de las coordenadas\n",
        "mapa = folium.Map(location=[df['Latitud'].mean(), df['Longitud'].mean()], zoom_start=12)\n",
        "\n",
        "# Añadir marcadores para cada ubicación en el DataFrame\n",
        "for idx, row in df.iterrows():\n",
        "    # Asegúrate de que las filas tienen coordenadas válidas\n",
        "    if not pd.isnull(row['Latitud']) and not pd.isnull(row['Longitud']):\n",
        "        folium.Marker(\n",
        "            location=[row['Latitud'], row['Longitud']],\n",
        "            popup=f\"{row['Nombre Establecimiento']}\", # Asegúrate de que esta columna existe en tu DataFrame\n",
        "        ).add_to(mapa)\n",
        "\n",
        "# Mostrar el mapa en el notebook de Colab\n",
        "mapa"
      ],
      "metadata": {
        "id": "hGEbjCMmMPst"
      },
      "execution_count": null,
      "outputs": []
    },
    {
      "cell_type": "code",
      "source": [],
      "metadata": {
        "id": "fup-DStUMZPl"
      },
      "execution_count": null,
      "outputs": []
    }
  ]
}